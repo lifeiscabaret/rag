{
 "cells": [
  {
   "cell_type": "markdown",
   "id": "cfd388a2",
   "metadata": {},
   "source": [
    "1. 문서 내용 읽기 \n",
    "2. 문서 분할(쪼개기)    \n",
    "    -문서를 분할하지 않으면,\n",
    "        -토큰 수 초과로 답변을 생성하지 못할 수 있음\n",
    "        -문서 길이(input)가 길어서 답변 생성에 시간 소요됨 -> 답변 늦어짐 \n",
    "3. 임베딩 - 벡터 데이터베이스에 저장\n",
    "4. 질문이 있으면, 벡터 데이터베이스에 유사도 검색\n",
    "5. 유사도 검색으로 가져온 문서를 LLM에 질문과 같이 전달"
   ]
  },
  {
   "cell_type": "code",
   "execution_count": null,
   "id": "e8bf5a1f",
   "metadata": {},
   "outputs": [],
   "source": [
    "## 패키지/라이브러리 설치 \n",
    "# %pip install -qU docx2txt langchain_community langchain-text-splitters langchain-chroma"
   ]
  },
  {
   "cell_type": "code",
   "execution_count": 18,
   "id": "74dbf2c4",
   "metadata": {},
   "outputs": [
    {
     "data": {
      "text/plain": [
       "AIMessage(content='전세사기피해자에 대한 금융지원은 여러 가지 형태로 제공됩니다. 다음은 관련 법령에 따른 주요 지원 내용입니다.\\n\\n1. **융자 지원**: 전세사기 피해자와 긴박한 주거 안정이 필요한 자에게 국가는 필요한 자금을 융자할 수 있습니다. 이는 전세사기 피해자의 긴급한 주거 안정을 위해 국토교통부가 주관합니다.\\n\\n2. **우선변제 지원**: 「주택임대차보호법」 제8조에 따른 우선변제를 받지 못해 시급한 지원이 필요한 경우, 주택도시기금에서 필요 자금을 융자받을 수 있습니다.\\n\\n3. **신용정보 유예**: 전세사기 피해자의 보증금이 모두 변제되지 않은 경우, 금융사 등에서 해당 전세 관련 대출에 대한 채무 불이행 및 대위변제 등록을 유예하거나 삭제할 수 있습니다.\\n\\n4. **오피스텔 포함**: 주택저당채권대상에 주거목적으로 사용되는 오피스텔도 포함되며, 이것은 「한국주택금융공사법」 등 관련 법령에 의해 규정됩니다.\\n\\n이러한 금융지원 정책은 전세사기 피해자들이 최대한 빠르게 경제적 안정을 회복할 수 있도록 돕기 위한 것입니다.', additional_kwargs={'refusal': None}, response_metadata={'token_usage': {'completion_tokens': 299, 'prompt_tokens': 4167, 'total_tokens': 4466, 'completion_tokens_details': {'accepted_prediction_tokens': 0, 'audio_tokens': 0, 'reasoning_tokens': 0, 'rejected_prediction_tokens': 0}, 'prompt_tokens_details': {'audio_tokens': 0, 'cached_tokens': 0}}, 'model_name': 'gpt-4o-2024-08-06', 'system_fingerprint': 'fp_07871e2ad8', 'id': 'chatcmpl-BdtEz2LiddwU6cGJztaZg6ltARgON', 'service_tier': 'default', 'finish_reason': 'stop', 'logprobs': None}, id='run--f76014a1-bb46-4002-8603-1d30044a637d-0', usage_metadata={'input_tokens': 4167, 'output_tokens': 299, 'total_tokens': 4466, 'input_token_details': {'audio': 0, 'cache_read': 0}, 'output_token_details': {'audio': 0, 'reasoning': 0}})"
      ]
     },
     "execution_count": 18,
     "metadata": {},
     "output_type": "execute_result"
    }
   ],
   "source": [
    "from dotenv import load_dotenv\n",
    "from langchain_openai import OpenAIEmbeddings, ChatOpenAI\n",
    "from langchain_community.document_loaders import Docx2txtLoader\n",
    "from langchain_chroma import Chroma\n",
    "from langchain_text_splitters import RecursiveCharacterTextSplitter\n",
    "\n",
    "\n",
    "\n",
    "# 1. 문서 내용 읽고 분할 =====================================================\n",
    "loader = Docx2txtLoader('law_1.docx')\n",
    "\n",
    "text_splitter = RecursiveCharacterTextSplitter( #분할된 문서 조각:청크\n",
    "    chunk_size=1500,\n",
    "    chunk_overlap=200,\n",
    "\n",
    ")\n",
    "document_list=loader.load_and_split(text_splitter=text_splitter) #실질적인 작업은 이 메써드 하나에서 실행 파일 읽고-> 분할-> text_splitter 기준으로 분할\n",
    "\n",
    "## 2. 임베딩 -> 벡터 데이터베이스에 저장 =====================================================\n",
    "## 2.1. 환경변수 읽어오기\n",
    "\n",
    "load_dotenv()\n",
    "\n",
    "# 2.2. 임베딩 모델 지정\n",
    "embedding = OpenAIEmbeddings(model=\"text-embedding-3-large\")\n",
    "\n",
    "\n",
    "# 2.3. 백터 데이터베이스에 저장\n",
    "## [방법 1] in memory -> RAM에 저장함.\n",
    "database = Chroma.from_documents( #수치화된 분할된 문서를 chroma에 저장\n",
    "    documents=document_list, #데이터:문서\n",
    "    embedding=embedding,     #수치화\n",
    "\n",
    ")\n",
    "# 3. 질문이 있으면, 벡터 데이터베이스에서 유사도 검색 =================================================================\n",
    "\n",
    "# 3.1. 사용자 질문\n",
    "query = '전세사기피해자 금융지원에 대해 설명해주세요.'\n",
    "\n",
    "# 3.2. 벡터 데이터베이스에서 유사도 검색\n",
    "retrieved_docs = database.similarity_search(query=query) #앞쪽변수는 매개변수, 뒤쪽변수는 위에 사용자 질문을 저장한값 / 사용자의 정보중 유사한 정보검색을 하는것 -> retrieved docs에 list로 옴.\n",
    "\n",
    "# 4. 유사도 검색으로 가져온 문서를 LLM에 질문과 같이 전달 ===================================================\n",
    "# 4.1. 프롬프트 작성\n",
    "prompt = '''\n",
    "[identity] \n",
    "- 당신은 전세사기피해 법률 전물가입니다.\n",
    "- [context]를 참고하여 사용자의 질문에 답변해주세요.\n",
    "\n",
    "[context]\n",
    "{retrieved_docs} \n",
    "\n",
    "Question: {query}\n",
    "'''\n",
    "## 4.2. 프롬프트 변수에 값 설정\n",
    "formatted_prompt = prompt.format(\n",
    "    retrieved_docs=retrieved_docs,\n",
    "    query=query\n",
    "    ) \n",
    "\n",
    "## 4.3. LLM 모델 생성(ChatOpenAI 인스턴스 생성)\n",
    "llm=ChatOpenAI(model='gpt-4o')\n",
    "\n",
    "## 4.4. LLM 모델에 질문과 검색된 문서를 보냄\n",
    "ai_message = llm.invoke(formatted_prompt)\n",
    "ai_message\n"
   ]
  }
 ],
 "metadata": {
  "kernelspec": {
   "display_name": "project",
   "language": "python",
   "name": "python3"
  },
  "language_info": {
   "codemirror_mode": {
    "name": "ipython",
    "version": 3
   },
   "file_extension": ".py",
   "mimetype": "text/x-python",
   "name": "python",
   "nbconvert_exporter": "python",
   "pygments_lexer": "ipython3",
   "version": "3.10.12"
  }
 },
 "nbformat": 4,
 "nbformat_minor": 5
}
